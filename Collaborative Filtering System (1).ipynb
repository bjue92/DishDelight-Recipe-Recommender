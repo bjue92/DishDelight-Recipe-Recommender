{
 "cells": [
  {
   "cell_type": "code",
   "execution_count": 2,
   "id": "30e87cd6",
   "metadata": {},
   "outputs": [],
   "source": [
    "import pandas as pd\n",
    "import numpy as np\n",
    "from surprise import Dataset\n",
    "from surprise import Reader\n",
    "from surprise.prediction_algorithms.matrix_factorization import SVD as FunkSVD\n",
    "from surprise.model_selection import cross_validate\n",
    "import difflib\n",
    "import random\n",
    "from surprise.model_selection import train_test_split\n",
    "import matplotlib.pyplot as plt\n",
    "from surprise import accuracy\n",
    "from surprise.model_selection import GridSearchCV\n",
    "\n",
    "pd.set_option('display.max_columns', None)"
   ]
  },
  {
   "cell_type": "markdown",
   "id": "ce041aa0",
   "metadata": {},
   "source": [
    "# Collaborative Filtering Recommender System\n",
    "Collaborative filtering system uses similarities between users and items to provide recommendations. As such, this recommendation system requires user's historical choices and their ratings on those choices, but does not require much of the product features. The process of the recommender system is to make a guess on what the user will rate items that they have not tried before and recommend items with a high predicted rating. "
   ]
  },
  {
   "cell_type": "code",
   "execution_count": 3,
   "id": "eb459ca0",
   "metadata": {},
   "outputs": [],
   "source": [
    "#Import recipes data\n",
    "df = pd.read_csv('Cleaned_recipes.csv')"
   ]
  },
  {
   "cell_type": "code",
   "execution_count": 4,
   "id": "fcf3f141",
   "metadata": {},
   "outputs": [],
   "source": [
    "#Import review data\n",
    "df_review = pd.read_csv('Cleaned_reviews.csv')"
   ]
  },
  {
   "cell_type": "code",
   "execution_count": 5,
   "id": "9e0370af",
   "metadata": {},
   "outputs": [
    {
     "data": {
      "text/html": [
       "<div>\n",
       "<style scoped>\n",
       "    .dataframe tbody tr th:only-of-type {\n",
       "        vertical-align: middle;\n",
       "    }\n",
       "\n",
       "    .dataframe tbody tr th {\n",
       "        vertical-align: top;\n",
       "    }\n",
       "\n",
       "    .dataframe thead th {\n",
       "        text-align: right;\n",
       "    }\n",
       "</style>\n",
       "<table border=\"1\" class=\"dataframe\">\n",
       "  <thead>\n",
       "    <tr style=\"text-align: right;\">\n",
       "      <th></th>\n",
       "      <th>Unnamed: 0</th>\n",
       "      <th>RecipeId</th>\n",
       "      <th>RecipeName</th>\n",
       "      <th>RecipeCategory</th>\n",
       "      <th>Keywords</th>\n",
       "      <th>Calories</th>\n",
       "      <th>FatContent</th>\n",
       "      <th>SaturatedFatContent</th>\n",
       "      <th>CholesterolContent</th>\n",
       "      <th>SodiumContent</th>\n",
       "      <th>CarbohydrateContent</th>\n",
       "      <th>FiberContent</th>\n",
       "      <th>SugarContent</th>\n",
       "      <th>ProteinContent</th>\n",
       "      <th>RecipeInstructions</th>\n",
       "      <th>serving_size</th>\n",
       "      <th>servings</th>\n",
       "      <th>ingredients</th>\n",
       "      <th>ingredients_raw_str</th>\n",
       "      <th>minutes</th>\n",
       "      <th>n_steps</th>\n",
       "      <th>n_ingredients</th>\n",
       "      <th>AggregatedRating</th>\n",
       "      <th>ReviewCount</th>\n",
       "      <th>year</th>\n",
       "      <th>month</th>\n",
       "      <th>day_of_week</th>\n",
       "    </tr>\n",
       "  </thead>\n",
       "  <tbody>\n",
       "    <tr>\n",
       "      <th>0</th>\n",
       "      <td>0</td>\n",
       "      <td>120</td>\n",
       "      <td>Carrot Cake II</td>\n",
       "      <td>Dessert</td>\n",
       "      <td>['Vegetable' 'Weeknight' 'Oven' '&lt; 4 Hours']</td>\n",
       "      <td>1173.5</td>\n",
       "      <td>69.8</td>\n",
       "      <td>19.4</td>\n",
       "      <td>154.7</td>\n",
       "      <td>720.2</td>\n",
       "      <td>129.9</td>\n",
       "      <td>3.7</td>\n",
       "      <td>89.4</td>\n",
       "      <td>11.5</td>\n",
       "      <td>['Preheat oven to 325°.'\\n 'Add 1 egg at a tim...</td>\n",
       "      <td>309</td>\n",
       "      <td>8</td>\n",
       "      <td>['carrot', 'egg', 'sugar', 'all purpose flour'...</td>\n",
       "      <td>[\"1   lb    carrot, freshly grated \",\"4   larg...</td>\n",
       "      <td>75</td>\n",
       "      <td>11</td>\n",
       "      <td>13</td>\n",
       "      <td>4.25</td>\n",
       "      <td>4.0</td>\n",
       "      <td>1999</td>\n",
       "      <td>9</td>\n",
       "      <td>6</td>\n",
       "    </tr>\n",
       "    <tr>\n",
       "      <th>1</th>\n",
       "      <td>1</td>\n",
       "      <td>122</td>\n",
       "      <td>Commissary Carrot Cake</td>\n",
       "      <td>Dessert</td>\n",
       "      <td>['Vegetable' 'Low Protein' 'Weeknight' 'For La...</td>\n",
       "      <td>1011.8</td>\n",
       "      <td>67.4</td>\n",
       "      <td>28.3</td>\n",
       "      <td>146.0</td>\n",
       "      <td>401.4</td>\n",
       "      <td>101.3</td>\n",
       "      <td>4.5</td>\n",
       "      <td>80.1</td>\n",
       "      <td>7.4</td>\n",
       "      <td>['In a heavy saucepan,blend well the flour,sug...</td>\n",
       "      <td>246</td>\n",
       "      <td>16</td>\n",
       "      <td>['sugar', 'flour', 'salt', 'heavy cream', 'uns...</td>\n",
       "      <td>[\"1 1/2  cups    sugar\",\"1/4  cup    flour\",\"3...</td>\n",
       "      <td>240</td>\n",
       "      <td>34</td>\n",
       "      <td>18</td>\n",
       "      <td>3.00</td>\n",
       "      <td>1.0</td>\n",
       "      <td>1999</td>\n",
       "      <td>9</td>\n",
       "      <td>3</td>\n",
       "    </tr>\n",
       "    <tr>\n",
       "      <th>2</th>\n",
       "      <td>2</td>\n",
       "      <td>123</td>\n",
       "      <td>Carrot Maple Cheesecake</td>\n",
       "      <td>Cheesecake</td>\n",
       "      <td>['Dessert' 'Weeknight' 'Oven' '&lt; 4 Hours']</td>\n",
       "      <td>302.5</td>\n",
       "      <td>20.3</td>\n",
       "      <td>11.0</td>\n",
       "      <td>103.0</td>\n",
       "      <td>320.9</td>\n",
       "      <td>22.9</td>\n",
       "      <td>0.9</td>\n",
       "      <td>16.8</td>\n",
       "      <td>8.2</td>\n",
       "      <td>['CRUST:  Combine ingredients; mix well.'\\n 'P...</td>\n",
       "      <td>139</td>\n",
       "      <td>12</td>\n",
       "      <td>['graham crackers', 'butter', 'carrot', 'light...</td>\n",
       "      <td>[\"\",\"1 1/3  cups    graham crackers (12 cookie...</td>\n",
       "      <td>110</td>\n",
       "      <td>13</td>\n",
       "      <td>9</td>\n",
       "      <td>4.33</td>\n",
       "      <td>9.0</td>\n",
       "      <td>1999</td>\n",
       "      <td>9</td>\n",
       "      <td>0</td>\n",
       "    </tr>\n",
       "    <tr>\n",
       "      <th>3</th>\n",
       "      <td>3</td>\n",
       "      <td>124</td>\n",
       "      <td>Catherine's Excellent Yorkshire Pudding</td>\n",
       "      <td>Dessert</td>\n",
       "      <td>['Healthy' '&lt; 60 Mins' 'Oven']</td>\n",
       "      <td>141.6</td>\n",
       "      <td>2.6</td>\n",
       "      <td>1.1</td>\n",
       "      <td>50.8</td>\n",
       "      <td>73.1</td>\n",
       "      <td>23.4</td>\n",
       "      <td>0.8</td>\n",
       "      <td>0.1</td>\n",
       "      <td>5.5</td>\n",
       "      <td>['Sieve the flour into mixing bowl.' 'Add the ...</td>\n",
       "      <td>67</td>\n",
       "      <td>4</td>\n",
       "      <td>['plain flour', 'salt', 'garlic salt', 'black ...</td>\n",
       "      <td>[\"4   ounces    plain flour\",\"1   pinch    sal...</td>\n",
       "      <td>35</td>\n",
       "      <td>6</td>\n",
       "      <td>7</td>\n",
       "      <td>4.50</td>\n",
       "      <td>2.0</td>\n",
       "      <td>1999</td>\n",
       "      <td>9</td>\n",
       "      <td>0</td>\n",
       "    </tr>\n",
       "    <tr>\n",
       "      <th>4</th>\n",
       "      <td>4</td>\n",
       "      <td>126</td>\n",
       "      <td>Carnation Lean Fettuccine Alfredo</td>\n",
       "      <td>Vegetable</td>\n",
       "      <td>['Healthy' '&lt; 60 Mins']</td>\n",
       "      <td>535.7</td>\n",
       "      <td>15.9</td>\n",
       "      <td>7.4</td>\n",
       "      <td>110.6</td>\n",
       "      <td>588.1</td>\n",
       "      <td>69.7</td>\n",
       "      <td>3.7</td>\n",
       "      <td>2.5</td>\n",
       "      <td>28.6</td>\n",
       "      <td>['In a large pot of boiling water, cook the fe...</td>\n",
       "      <td>298</td>\n",
       "      <td>4</td>\n",
       "      <td>['fettuccine', 'olive oil', 'garlic', 'milk', ...</td>\n",
       "      <td>[\"12   ounces    fettuccine\",\"1   teaspoon    ...</td>\n",
       "      <td>40</td>\n",
       "      <td>9</td>\n",
       "      <td>13</td>\n",
       "      <td>2.67</td>\n",
       "      <td>9.0</td>\n",
       "      <td>1999</td>\n",
       "      <td>8</td>\n",
       "      <td>5</td>\n",
       "    </tr>\n",
       "  </tbody>\n",
       "</table>\n",
       "</div>"
      ],
      "text/plain": [
       "   Unnamed: 0  RecipeId                               RecipeName  \\\n",
       "0           0       120                           Carrot Cake II   \n",
       "1           1       122                   Commissary Carrot Cake   \n",
       "2           2       123                  Carrot Maple Cheesecake   \n",
       "3           3       124  Catherine's Excellent Yorkshire Pudding   \n",
       "4           4       126        Carnation Lean Fettuccine Alfredo   \n",
       "\n",
       "  RecipeCategory                                           Keywords  Calories  \\\n",
       "0        Dessert       ['Vegetable' 'Weeknight' 'Oven' '< 4 Hours']    1173.5   \n",
       "1        Dessert  ['Vegetable' 'Low Protein' 'Weeknight' 'For La...    1011.8   \n",
       "2     Cheesecake         ['Dessert' 'Weeknight' 'Oven' '< 4 Hours']     302.5   \n",
       "3        Dessert                     ['Healthy' '< 60 Mins' 'Oven']     141.6   \n",
       "4      Vegetable                            ['Healthy' '< 60 Mins']     535.7   \n",
       "\n",
       "   FatContent  SaturatedFatContent  CholesterolContent  SodiumContent  \\\n",
       "0        69.8                 19.4               154.7          720.2   \n",
       "1        67.4                 28.3               146.0          401.4   \n",
       "2        20.3                 11.0               103.0          320.9   \n",
       "3         2.6                  1.1                50.8           73.1   \n",
       "4        15.9                  7.4               110.6          588.1   \n",
       "\n",
       "   CarbohydrateContent  FiberContent  SugarContent  ProteinContent  \\\n",
       "0                129.9           3.7          89.4            11.5   \n",
       "1                101.3           4.5          80.1             7.4   \n",
       "2                 22.9           0.9          16.8             8.2   \n",
       "3                 23.4           0.8           0.1             5.5   \n",
       "4                 69.7           3.7           2.5            28.6   \n",
       "\n",
       "                                  RecipeInstructions  serving_size  servings  \\\n",
       "0  ['Preheat oven to 325°.'\\n 'Add 1 egg at a tim...           309         8   \n",
       "1  ['In a heavy saucepan,blend well the flour,sug...           246        16   \n",
       "2  ['CRUST:  Combine ingredients; mix well.'\\n 'P...           139        12   \n",
       "3  ['Sieve the flour into mixing bowl.' 'Add the ...            67         4   \n",
       "4  ['In a large pot of boiling water, cook the fe...           298         4   \n",
       "\n",
       "                                         ingredients  \\\n",
       "0  ['carrot', 'egg', 'sugar', 'all purpose flour'...   \n",
       "1  ['sugar', 'flour', 'salt', 'heavy cream', 'uns...   \n",
       "2  ['graham crackers', 'butter', 'carrot', 'light...   \n",
       "3  ['plain flour', 'salt', 'garlic salt', 'black ...   \n",
       "4  ['fettuccine', 'olive oil', 'garlic', 'milk', ...   \n",
       "\n",
       "                                 ingredients_raw_str  minutes  n_steps  \\\n",
       "0  [\"1   lb    carrot, freshly grated \",\"4   larg...       75       11   \n",
       "1  [\"1 1/2  cups    sugar\",\"1/4  cup    flour\",\"3...      240       34   \n",
       "2  [\"\",\"1 1/3  cups    graham crackers (12 cookie...      110       13   \n",
       "3  [\"4   ounces    plain flour\",\"1   pinch    sal...       35        6   \n",
       "4  [\"12   ounces    fettuccine\",\"1   teaspoon    ...       40        9   \n",
       "\n",
       "   n_ingredients  AggregatedRating  ReviewCount  year  month  day_of_week  \n",
       "0             13              4.25          4.0  1999      9            6  \n",
       "1             18              3.00          1.0  1999      9            3  \n",
       "2              9              4.33          9.0  1999      9            0  \n",
       "3              7              4.50          2.0  1999      9            0  \n",
       "4             13              2.67          9.0  1999      8            5  "
      ]
     },
     "execution_count": 5,
     "metadata": {},
     "output_type": "execute_result"
    }
   ],
   "source": [
    "df.head(5)"
   ]
  },
  {
   "cell_type": "code",
   "execution_count": 6,
   "id": "c6d5d05c",
   "metadata": {},
   "outputs": [],
   "source": [
    "df.drop(columns = 'Unnamed: 0', inplace = True)"
   ]
  },
  {
   "cell_type": "code",
   "execution_count": 7,
   "id": "97feb320",
   "metadata": {},
   "outputs": [
    {
     "data": {
      "text/html": [
       "<div>\n",
       "<style scoped>\n",
       "    .dataframe tbody tr th:only-of-type {\n",
       "        vertical-align: middle;\n",
       "    }\n",
       "\n",
       "    .dataframe tbody tr th {\n",
       "        vertical-align: top;\n",
       "    }\n",
       "\n",
       "    .dataframe thead th {\n",
       "        text-align: right;\n",
       "    }\n",
       "</style>\n",
       "<table border=\"1\" class=\"dataframe\">\n",
       "  <thead>\n",
       "    <tr style=\"text-align: right;\">\n",
       "      <th></th>\n",
       "      <th>Unnamed: 0</th>\n",
       "      <th>User</th>\n",
       "      <th>RecipeId</th>\n",
       "      <th>Rating</th>\n",
       "    </tr>\n",
       "  </thead>\n",
       "  <tbody>\n",
       "    <tr>\n",
       "      <th>0</th>\n",
       "      <td>0</td>\n",
       "      <td>2008</td>\n",
       "      <td>992</td>\n",
       "      <td>5</td>\n",
       "    </tr>\n",
       "    <tr>\n",
       "      <th>1</th>\n",
       "      <td>7</td>\n",
       "      <td>2156</td>\n",
       "      <td>148</td>\n",
       "      <td>0</td>\n",
       "    </tr>\n",
       "    <tr>\n",
       "      <th>2</th>\n",
       "      <td>8</td>\n",
       "      <td>2046</td>\n",
       "      <td>517</td>\n",
       "      <td>5</td>\n",
       "    </tr>\n",
       "    <tr>\n",
       "      <th>3</th>\n",
       "      <td>19</td>\n",
       "      <td>2625</td>\n",
       "      <td>471</td>\n",
       "      <td>3</td>\n",
       "    </tr>\n",
       "    <tr>\n",
       "      <th>4</th>\n",
       "      <td>21</td>\n",
       "      <td>2312</td>\n",
       "      <td>780</td>\n",
       "      <td>5</td>\n",
       "    </tr>\n",
       "  </tbody>\n",
       "</table>\n",
       "</div>"
      ],
      "text/plain": [
       "   Unnamed: 0  User  RecipeId  Rating\n",
       "0           0  2008       992       5\n",
       "1           7  2156       148       0\n",
       "2           8  2046       517       5\n",
       "3          19  2625       471       3\n",
       "4          21  2312       780       5"
      ]
     },
     "execution_count": 7,
     "metadata": {},
     "output_type": "execute_result"
    }
   ],
   "source": [
    "df_review.head()"
   ]
  },
  {
   "cell_type": "code",
   "execution_count": 8,
   "id": "819ee31c",
   "metadata": {},
   "outputs": [],
   "source": [
    "df_review.drop(columns = 'Unnamed: 0', inplace = True)"
   ]
  },
  {
   "cell_type": "code",
   "execution_count": 9,
   "id": "b0cf7c37",
   "metadata": {},
   "outputs": [
    {
     "name": "stdout",
     "output_type": "stream",
     "text": [
      "<class 'pandas.core.frame.DataFrame'>\n",
      "RangeIndex: 765139 entries, 0 to 765138\n",
      "Data columns (total 3 columns):\n",
      " #   Column    Non-Null Count   Dtype\n",
      "---  ------    --------------   -----\n",
      " 0   User      765139 non-null  int64\n",
      " 1   RecipeId  765139 non-null  int64\n",
      " 2   Rating    765139 non-null  int64\n",
      "dtypes: int64(3)\n",
      "memory usage: 17.5 MB\n"
     ]
    }
   ],
   "source": [
    "df_review.info()"
   ]
  },
  {
   "cell_type": "markdown",
   "id": "e2e58d6e",
   "metadata": {},
   "source": [
    "# Sample User input"
   ]
  },
  {
   "cell_type": "code",
   "execution_count": 10,
   "id": "603e8b0e",
   "metadata": {},
   "outputs": [],
   "source": [
    "df_input = df_review[df_review['User'] == 2312]"
   ]
  },
  {
   "cell_type": "code",
   "execution_count": 11,
   "id": "c6679a8a",
   "metadata": {},
   "outputs": [],
   "source": [
    "df_input = df_input.sort_values(by='Rating', ascending=False).head(10)"
   ]
  },
  {
   "cell_type": "code",
   "execution_count": 12,
   "id": "8f8b7b65",
   "metadata": {},
   "outputs": [
    {
     "data": {
      "text/html": [
       "<div>\n",
       "<style scoped>\n",
       "    .dataframe tbody tr th:only-of-type {\n",
       "        vertical-align: middle;\n",
       "    }\n",
       "\n",
       "    .dataframe tbody tr th {\n",
       "        vertical-align: top;\n",
       "    }\n",
       "\n",
       "    .dataframe thead th {\n",
       "        text-align: right;\n",
       "    }\n",
       "</style>\n",
       "<table border=\"1\" class=\"dataframe\">\n",
       "  <thead>\n",
       "    <tr style=\"text-align: right;\">\n",
       "      <th></th>\n",
       "      <th>User</th>\n",
       "      <th>RecipeId</th>\n",
       "      <th>Rating</th>\n",
       "    </tr>\n",
       "  </thead>\n",
       "  <tbody>\n",
       "    <tr>\n",
       "      <th>4</th>\n",
       "      <td>2312</td>\n",
       "      <td>780</td>\n",
       "      <td>5</td>\n",
       "    </tr>\n",
       "    <tr>\n",
       "      <th>123918</th>\n",
       "      <td>2312</td>\n",
       "      <td>148066</td>\n",
       "      <td>5</td>\n",
       "    </tr>\n",
       "    <tr>\n",
       "      <th>52981</th>\n",
       "      <td>2312</td>\n",
       "      <td>37634</td>\n",
       "      <td>5</td>\n",
       "    </tr>\n",
       "    <tr>\n",
       "      <th>6</th>\n",
       "      <td>2312</td>\n",
       "      <td>51964</td>\n",
       "      <td>5</td>\n",
       "    </tr>\n",
       "    <tr>\n",
       "      <th>47564</th>\n",
       "      <td>2312</td>\n",
       "      <td>48537</td>\n",
       "      <td>5</td>\n",
       "    </tr>\n",
       "    <tr>\n",
       "      <th>113793</th>\n",
       "      <td>2312</td>\n",
       "      <td>107090</td>\n",
       "      <td>5</td>\n",
       "    </tr>\n",
       "    <tr>\n",
       "      <th>113794</th>\n",
       "      <td>2312</td>\n",
       "      <td>108281</td>\n",
       "      <td>5</td>\n",
       "    </tr>\n",
       "    <tr>\n",
       "      <th>44507</th>\n",
       "      <td>2312</td>\n",
       "      <td>8679</td>\n",
       "      <td>5</td>\n",
       "    </tr>\n",
       "    <tr>\n",
       "      <th>38298</th>\n",
       "      <td>2312</td>\n",
       "      <td>26205</td>\n",
       "      <td>5</td>\n",
       "    </tr>\n",
       "    <tr>\n",
       "      <th>123917</th>\n",
       "      <td>2312</td>\n",
       "      <td>72072</td>\n",
       "      <td>5</td>\n",
       "    </tr>\n",
       "  </tbody>\n",
       "</table>\n",
       "</div>"
      ],
      "text/plain": [
       "        User  RecipeId  Rating\n",
       "4       2312       780       5\n",
       "123918  2312    148066       5\n",
       "52981   2312     37634       5\n",
       "6       2312     51964       5\n",
       "47564   2312     48537       5\n",
       "113793  2312    107090       5\n",
       "113794  2312    108281       5\n",
       "44507   2312      8679       5\n",
       "38298   2312     26205       5\n",
       "123917  2312     72072       5"
      ]
     },
     "execution_count": 12,
     "metadata": {},
     "output_type": "execute_result"
    }
   ],
   "source": [
    "df_input"
   ]
  },
  {
   "cell_type": "code",
   "execution_count": 13,
   "id": "ce7e760e",
   "metadata": {},
   "outputs": [],
   "source": [
    "top_recipes = df_input['RecipeId']"
   ]
  },
  {
   "cell_type": "code",
   "execution_count": 14,
   "id": "89a6f756",
   "metadata": {},
   "outputs": [],
   "source": [
    "df_recipes = df[df['RecipeId'].isin(top_recipes)]"
   ]
  },
  {
   "cell_type": "code",
   "execution_count": 15,
   "id": "6c28b537",
   "metadata": {},
   "outputs": [
    {
     "data": {
      "text/html": [
       "<div>\n",
       "<style scoped>\n",
       "    .dataframe tbody tr th:only-of-type {\n",
       "        vertical-align: middle;\n",
       "    }\n",
       "\n",
       "    .dataframe tbody tr th {\n",
       "        vertical-align: top;\n",
       "    }\n",
       "\n",
       "    .dataframe thead th {\n",
       "        text-align: right;\n",
       "    }\n",
       "</style>\n",
       "<table border=\"1\" class=\"dataframe\">\n",
       "  <thead>\n",
       "    <tr style=\"text-align: right;\">\n",
       "      <th></th>\n",
       "      <th>RecipeName</th>\n",
       "      <th>AggregatedRating</th>\n",
       "    </tr>\n",
       "  </thead>\n",
       "  <tbody>\n",
       "    <tr>\n",
       "      <th>247</th>\n",
       "      <td>Indian Spiced Chicken</td>\n",
       "      <td>5.00</td>\n",
       "    </tr>\n",
       "    <tr>\n",
       "      <th>13006</th>\n",
       "      <td>Szechuan Pepper-Salt Prawns</td>\n",
       "      <td>5.00</td>\n",
       "    </tr>\n",
       "    <tr>\n",
       "      <th>43383</th>\n",
       "      <td>Bread Stuffing W/ Pears, Bacon, Pecans &amp; Caram...</td>\n",
       "      <td>5.00</td>\n",
       "    </tr>\n",
       "    <tr>\n",
       "      <th>17792</th>\n",
       "      <td>Chiffonade of Brussels Sprouts with Bacon &amp;amp...</td>\n",
       "      <td>4.78</td>\n",
       "    </tr>\n",
       "    <tr>\n",
       "      <th>1170</th>\n",
       "      <td>Lamb Leg Steak With Maple Chevre Shiitake Sauce</td>\n",
       "      <td>4.00</td>\n",
       "    </tr>\n",
       "    <tr>\n",
       "      <th>7560</th>\n",
       "      <td>Classic Pie Crust, Idiot Proof Step-By-Step Ph...</td>\n",
       "      <td>4.00</td>\n",
       "    </tr>\n",
       "    <tr>\n",
       "      <th>59493</th>\n",
       "      <td>Martha Stewart's Eggnog</td>\n",
       "      <td>4.00</td>\n",
       "    </tr>\n",
       "    <tr>\n",
       "      <th>19300</th>\n",
       "      <td>Roasted Potatoes With Tomatoes &amp;amp; Rosemary</td>\n",
       "      <td>3.67</td>\n",
       "    </tr>\n",
       "    <tr>\n",
       "      <th>43891</th>\n",
       "      <td>Best Ever Pie Crust!</td>\n",
       "      <td>3.33</td>\n",
       "    </tr>\n",
       "    <tr>\n",
       "      <th>28207</th>\n",
       "      <td>Roast Prime Rib of Beef With Pink and Green Pe...</td>\n",
       "      <td>0.00</td>\n",
       "    </tr>\n",
       "  </tbody>\n",
       "</table>\n",
       "</div>"
      ],
      "text/plain": [
       "                                              RecipeName  AggregatedRating\n",
       "247                                Indian Spiced Chicken              5.00\n",
       "13006                        Szechuan Pepper-Salt Prawns              5.00\n",
       "43383  Bread Stuffing W/ Pears, Bacon, Pecans & Caram...              5.00\n",
       "17792  Chiffonade of Brussels Sprouts with Bacon &amp...              4.78\n",
       "1170     Lamb Leg Steak With Maple Chevre Shiitake Sauce              4.00\n",
       "7560   Classic Pie Crust, Idiot Proof Step-By-Step Ph...              4.00\n",
       "59493                            Martha Stewart's Eggnog              4.00\n",
       "19300      Roasted Potatoes With Tomatoes &amp; Rosemary              3.67\n",
       "43891                               Best Ever Pie Crust!              3.33\n",
       "28207  Roast Prime Rib of Beef With Pink and Green Pe...              0.00"
      ]
     },
     "execution_count": 15,
     "metadata": {},
     "output_type": "execute_result"
    }
   ],
   "source": [
    "df_recipes.loc[:,['RecipeName','AggregatedRating']].sort_values(by='AggregatedRating', ascending=False)"
   ]
  },
  {
   "cell_type": "markdown",
   "id": "7831a78f",
   "metadata": {},
   "source": [
    "# Matrix Factorization - Funk SVD\n",
    "Matrix Factorization is a crucial step in the collaborative filtering system. The objective of the matrix is to factorize a user-item matrix into two low-ranked matrices, (1) user-factor matrix and (2) item-factor matrix. The decomposition into two matrices will help generate latent or hidden factors of the characteristics of the item and prefrences of the users, which will help predict user ratings on new unseen recipes.<br>\n",
    "\n",
    "The downfall to Singular Value Decomposition is that it doesn't work well with a spare-martrix (lot of NaN values, which means that the user has never tried the recipe). In order to compensate for this, we use Funk SVD. Funk SVD will ignore the missing values and compute the latent factors (hidden factors) on only the values that we know.\n",
    "\n",
    "### More about latent features\n",
    "Latent features cannot be observed in our data, instead it is infered based on the ratings given by the user of the recipe. These features represent characteristics of the recipes and preferences of the user. "
   ]
  },
  {
   "cell_type": "code",
   "execution_count": 16,
   "id": "95787e50",
   "metadata": {},
   "outputs": [],
   "source": [
    "#Initializing FunkSVD algorithm\n",
    "my_reader = Reader(rating_scale = (1,5))\n",
    "\n",
    "df_review_data = Dataset.load_from_df(df_review, my_reader)"
   ]
  },
  {
   "cell_type": "markdown",
   "id": "bb187d8a",
   "metadata": {},
   "source": [
    "## Funk SVD Parameters & Evaluation Metrics\n",
    "There are various parameters that will need to be fine tuned to attain the best evaluation metrics for our model. Before we start with out parameters, we can start with the evaluation metrics for the Funk SVD model. <br>\n",
    "\n",
    "### Evaluation Metrics\n",
    "**Root Mean Square Error (RMSE)** <br>\n",
    "RMSE measures the average squared difference between the predicted ratings and actual ratings. A lower RMSE score indicates a better model performance. \n",
    "\n",
    "**Mean Absolute Error** <br>\n",
    "MAE measures the absolute difference between predicted and actual ratings. A lower MAE socre indicates a better model performance. \n",
    "\n",
    "With the two evaluation metrics mentioned above, there are a couple of flaws. <br>\n",
    "1. Score can only be computed if a recipe has been rated. This means unseen recipes will not be rated. As such, this defeats a part of the goal of a recommender system as it will cannot recommend a unseen recipes. \n",
    "2. Better score prediction does not lead to better recommendations. Although a recipe may have a high accuracy predicting the rating of th recipe, it may not be a relevant recipe to the user. This defeats the purpose a recommender system.\n",
    "\n",
    "To combat this issue, we need to use \"Ranking Based Methods\" to help measure the quality of the items ranking.\n",
    "\n",
    "**Fraction of Concordant Pairs (FCP)** <br>\n",
    "FCP quanitfies the extent of which the recommendation system correctly ranks the items in comparison to the user's preferecnes. It is a measure of the pairwise ordering of items. <br>\n",
    "\n",
    "**How FCP works?** <br>\n",
    "For each user, all possible pairs of items for that user is compared to each other to determine which ranks higher. If a pair of items' predicted ranking is the same as the actual ranking, the pair is considered a concordant pair. If it is not, it is considered a disconcordant pair. To calculate the FCP score, we take the number of concordant pairs and divided it by the total number of pairs. A higher FCP score indicates a better ranking system score.\n"
   ]
  },
  {
   "cell_type": "code",
   "execution_count": 17,
   "id": "205e2fc4",
   "metadata": {},
   "outputs": [],
   "source": [
    "#Setting up Parameter grid\n",
    "param_grid = {\n",
    "    'n_factors': [100],\n",
    "    'n_epochs': [10],\n",
    "    'lr_all': [0.005],\n",
    "    'biased': [False]}\n",
    "\n",
    "#Set GridSearchCV with 3 cross validation\n",
    "GS = GridSearchCV(FunkSVD, param_grid, measures = ['fcp', 'rmse', 'mae'])\n",
    "\n",
    "#Fit Model\n",
    "GS.fit(df_review_data)"
   ]
  },
  {
   "cell_type": "code",
   "execution_count": 18,
   "id": "ab3af332",
   "metadata": {},
   "outputs": [],
   "source": [
    "#Setting up Parameter grid\n",
    "param_grid = {\n",
    "    'n_factors': [100, 150, 200],\n",
    "    'n_epochs': [10, 20 , 30],\n",
    "    'lr_all': [0.005, 0.01, 0.1],\n",
    "    'biased': [False]}\n",
    "\n",
    "#Set GridSearchCV with 3 cross validation\n",
    "GS = GridSearchCV(FunkSVD, param_grid, measures = ['fcp', 'rmse', 'mae'], cv = 3)\n",
    "\n",
    "#Fit Model\n",
    "GS.fit(df_review_data)"
   ]
  },
  {
   "cell_type": "markdown",
   "id": "4f1cefe2",
   "metadata": {},
   "source": []
  },
  {
   "cell_type": "code",
   "execution_count": 19,
   "id": "6faae7ce",
   "metadata": {},
   "outputs": [
    {
     "name": "stdout",
     "output_type": "stream",
     "text": [
      "Best FCP Score 0.5905422988979043\n",
      "Best RMSE Score 1.3142017158509118\n",
      "Best MAE Score 0.6372641109712557\n"
     ]
    }
   ],
   "source": [
    "#Check FCP accuracy score\n",
    "best_fcp = GS.best_score['fcp']\n",
    "best_rmse = GS.best_score['rmse']\n",
    "best_mae = GS.best_score['mae']\n",
    "\n",
    "print(\"Best FCP Score\", best_fcp)\n",
    "print(\"Best RMSE Score\", best_rmse)\n",
    "print(\"Best MAE Score\", best_mae)"
   ]
  },
  {
   "cell_type": "code",
   "execution_count": 20,
   "id": "02e3b5a9",
   "metadata": {},
   "outputs": [
    {
     "name": "stdout",
     "output_type": "stream",
     "text": [
      "Best FCP param {'n_factors': 100, 'n_epochs': 10, 'lr_all': 0.005, 'biased': False}\n",
      "Best RMSE param {'n_factors': 100, 'n_epochs': 20, 'lr_all': 0.1, 'biased': False}\n",
      "Best MAE param {'n_factors': 100, 'n_epochs': 30, 'lr_all': 0.1, 'biased': False}\n"
     ]
    }
   ],
   "source": [
    "#Check best param\n",
    "fcp_param = GS.best_params['fcp']\n",
    "rmse_param = GS.best_params['rmse']\n",
    "mae_param = GS.best_params['mae']\n",
    "\n",
    "print(\"Best FCP param\", fcp_param)\n",
    "print(\"Best RMSE param\", rmse_param)\n",
    "print(\"Best MAE param\", mae_param)"
   ]
  },
  {
   "cell_type": "markdown",
   "id": "7c6ca5fc",
   "metadata": {},
   "source": [
    "Best param that nets best result for the FCP score is: {'n_factors': 100, 'n_epochs': 10, 'lr_all': 0.005, 'biased': False}. These parameters netted a 58.6% FCP score meaning that 58.6% of the time the recommendation system ranked one item higher than another in accordance with the user's actual preferences. "
   ]
  },
  {
   "cell_type": "markdown",
   "id": "b31986bb",
   "metadata": {},
   "source": [
    "Build algorithm on train test set to check accuracy"
   ]
  },
  {
   "cell_type": "code",
   "execution_count": 21,
   "id": "516f0375",
   "metadata": {},
   "outputs": [],
   "source": [
    "#Train test split\n",
    "trainset, testset = train_test_split(df_review_data, test_size = 0.2)\n",
    "\n",
    "#Set algorithm\n",
    "review_algo = FunkSVD(n_factors = 100,\n",
    "                     n_epochs = 10,\n",
    "                     lr_all = 0.005,\n",
    "                     biased = False,\n",
    "                     verbose = 0)\n",
    "\n",
    "#Fit train set\n",
    "review_algo.fit(trainset)\n",
    "\n",
    "#Test algo using test set\n",
    "prediction = review_algo.test(testset)"
   ]
  },
  {
   "cell_type": "code",
   "execution_count": 22,
   "id": "34394ab3",
   "metadata": {},
   "outputs": [],
   "source": [
    "# Put my_pred result in a dataframe\n",
    "df_prediction = pd.DataFrame(prediction, columns=['user_id',\n",
    "                                                     'recipe_id',\n",
    "                                                     'actual',\n",
    "                                                     'prediction',\n",
    "                                                     'details'])\n",
    "\n",
    "# Calculate the difference of actual and prediction into diff column\n",
    "df_prediction['diff'] = abs(df_prediction['prediction'] - \n",
    "                            df_prediction['actual'])"
   ]
  },
  {
   "cell_type": "code",
   "execution_count": 23,
   "id": "ebd8d2e1",
   "metadata": {},
   "outputs": [
    {
     "data": {
      "text/html": [
       "<div>\n",
       "<style scoped>\n",
       "    .dataframe tbody tr th:only-of-type {\n",
       "        vertical-align: middle;\n",
       "    }\n",
       "\n",
       "    .dataframe tbody tr th {\n",
       "        vertical-align: top;\n",
       "    }\n",
       "\n",
       "    .dataframe thead th {\n",
       "        text-align: right;\n",
       "    }\n",
       "</style>\n",
       "<table border=\"1\" class=\"dataframe\">\n",
       "  <thead>\n",
       "    <tr style=\"text-align: right;\">\n",
       "      <th></th>\n",
       "      <th>user_id</th>\n",
       "      <th>recipe_id</th>\n",
       "      <th>actual</th>\n",
       "      <th>prediction</th>\n",
       "      <th>details</th>\n",
       "      <th>diff</th>\n",
       "    </tr>\n",
       "  </thead>\n",
       "  <tbody>\n",
       "    <tr>\n",
       "      <th>0</th>\n",
       "      <td>757556</td>\n",
       "      <td>48878</td>\n",
       "      <td>5.0</td>\n",
       "      <td>2.033947</td>\n",
       "      <td>{'was_impossible': False}</td>\n",
       "      <td>2.966053</td>\n",
       "    </tr>\n",
       "    <tr>\n",
       "      <th>1</th>\n",
       "      <td>17206</td>\n",
       "      <td>61799</td>\n",
       "      <td>5.0</td>\n",
       "      <td>1.000000</td>\n",
       "      <td>{'was_impossible': False}</td>\n",
       "      <td>4.000000</td>\n",
       "    </tr>\n",
       "    <tr>\n",
       "      <th>2</th>\n",
       "      <td>37305</td>\n",
       "      <td>107343</td>\n",
       "      <td>3.0</td>\n",
       "      <td>1.500818</td>\n",
       "      <td>{'was_impossible': False}</td>\n",
       "      <td>1.499182</td>\n",
       "    </tr>\n",
       "    <tr>\n",
       "      <th>3</th>\n",
       "      <td>364685</td>\n",
       "      <td>204926</td>\n",
       "      <td>4.0</td>\n",
       "      <td>2.920974</td>\n",
       "      <td>{'was_impossible': False}</td>\n",
       "      <td>1.079026</td>\n",
       "    </tr>\n",
       "    <tr>\n",
       "      <th>4</th>\n",
       "      <td>228172</td>\n",
       "      <td>35525</td>\n",
       "      <td>5.0</td>\n",
       "      <td>2.197103</td>\n",
       "      <td>{'was_impossible': False}</td>\n",
       "      <td>2.802897</td>\n",
       "    </tr>\n",
       "  </tbody>\n",
       "</table>\n",
       "</div>"
      ],
      "text/plain": [
       "   user_id  recipe_id  actual  prediction                    details      diff\n",
       "0   757556      48878     5.0    2.033947  {'was_impossible': False}  2.966053\n",
       "1    17206      61799     5.0    1.000000  {'was_impossible': False}  4.000000\n",
       "2    37305     107343     3.0    1.500818  {'was_impossible': False}  1.499182\n",
       "3   364685     204926     4.0    2.920974  {'was_impossible': False}  1.079026\n",
       "4   228172      35525     5.0    2.197103  {'was_impossible': False}  2.802897"
      ]
     },
     "execution_count": 23,
     "metadata": {},
     "output_type": "execute_result"
    }
   ],
   "source": [
    "# Check the df_prediction\n",
    "df_prediction.head()"
   ]
  },
  {
   "cell_type": "code",
   "execution_count": 24,
   "id": "b0b9e613",
   "metadata": {},
   "outputs": [
    {
     "data": {
      "text/html": [
       "<div>\n",
       "<style scoped>\n",
       "    .dataframe tbody tr th:only-of-type {\n",
       "        vertical-align: middle;\n",
       "    }\n",
       "\n",
       "    .dataframe tbody tr th {\n",
       "        vertical-align: top;\n",
       "    }\n",
       "\n",
       "    .dataframe thead th {\n",
       "        text-align: right;\n",
       "    }\n",
       "</style>\n",
       "<table border=\"1\" class=\"dataframe\">\n",
       "  <thead>\n",
       "    <tr style=\"text-align: right;\">\n",
       "      <th></th>\n",
       "      <th>user_id</th>\n",
       "      <th>recipe_id</th>\n",
       "      <th>actual</th>\n",
       "      <th>prediction</th>\n",
       "      <th>details</th>\n",
       "      <th>diff</th>\n",
       "    </tr>\n",
       "  </thead>\n",
       "  <tbody>\n",
       "    <tr>\n",
       "      <th>76513</th>\n",
       "      <td>216165</td>\n",
       "      <td>121897</td>\n",
       "      <td>5.0</td>\n",
       "      <td>5.0</td>\n",
       "      <td>{'was_impossible': False}</td>\n",
       "      <td>0.0</td>\n",
       "    </tr>\n",
       "    <tr>\n",
       "      <th>22506</th>\n",
       "      <td>13063</td>\n",
       "      <td>31128</td>\n",
       "      <td>5.0</td>\n",
       "      <td>5.0</td>\n",
       "      <td>{'was_impossible': False}</td>\n",
       "      <td>0.0</td>\n",
       "    </tr>\n",
       "    <tr>\n",
       "      <th>110033</th>\n",
       "      <td>584814</td>\n",
       "      <td>166030</td>\n",
       "      <td>5.0</td>\n",
       "      <td>5.0</td>\n",
       "      <td>{'was_impossible': False}</td>\n",
       "      <td>0.0</td>\n",
       "    </tr>\n",
       "    <tr>\n",
       "      <th>110029</th>\n",
       "      <td>47723</td>\n",
       "      <td>119158</td>\n",
       "      <td>5.0</td>\n",
       "      <td>5.0</td>\n",
       "      <td>{'was_impossible': False}</td>\n",
       "      <td>0.0</td>\n",
       "    </tr>\n",
       "    <tr>\n",
       "      <th>110014</th>\n",
       "      <td>147027</td>\n",
       "      <td>34881</td>\n",
       "      <td>5.0</td>\n",
       "      <td>5.0</td>\n",
       "      <td>{'was_impossible': False}</td>\n",
       "      <td>0.0</td>\n",
       "    </tr>\n",
       "    <tr>\n",
       "      <th>110003</th>\n",
       "      <td>150281</td>\n",
       "      <td>23495</td>\n",
       "      <td>5.0</td>\n",
       "      <td>5.0</td>\n",
       "      <td>{'was_impossible': False}</td>\n",
       "      <td>0.0</td>\n",
       "    </tr>\n",
       "    <tr>\n",
       "      <th>109994</th>\n",
       "      <td>38182</td>\n",
       "      <td>52556</td>\n",
       "      <td>5.0</td>\n",
       "      <td>5.0</td>\n",
       "      <td>{'was_impossible': False}</td>\n",
       "      <td>0.0</td>\n",
       "    </tr>\n",
       "    <tr>\n",
       "      <th>109982</th>\n",
       "      <td>1206650</td>\n",
       "      <td>222188</td>\n",
       "      <td>5.0</td>\n",
       "      <td>5.0</td>\n",
       "      <td>{'was_impossible': False}</td>\n",
       "      <td>0.0</td>\n",
       "    </tr>\n",
       "    <tr>\n",
       "      <th>22547</th>\n",
       "      <td>314579</td>\n",
       "      <td>16399</td>\n",
       "      <td>5.0</td>\n",
       "      <td>5.0</td>\n",
       "      <td>{'was_impossible': False}</td>\n",
       "      <td>0.0</td>\n",
       "    </tr>\n",
       "    <tr>\n",
       "      <th>109970</th>\n",
       "      <td>482376</td>\n",
       "      <td>210258</td>\n",
       "      <td>5.0</td>\n",
       "      <td>5.0</td>\n",
       "      <td>{'was_impossible': False}</td>\n",
       "      <td>0.0</td>\n",
       "    </tr>\n",
       "  </tbody>\n",
       "</table>\n",
       "</div>"
      ],
      "text/plain": [
       "        user_id  recipe_id  actual  prediction                    details  \\\n",
       "76513    216165     121897     5.0         5.0  {'was_impossible': False}   \n",
       "22506     13063      31128     5.0         5.0  {'was_impossible': False}   \n",
       "110033   584814     166030     5.0         5.0  {'was_impossible': False}   \n",
       "110029    47723     119158     5.0         5.0  {'was_impossible': False}   \n",
       "110014   147027      34881     5.0         5.0  {'was_impossible': False}   \n",
       "110003   150281      23495     5.0         5.0  {'was_impossible': False}   \n",
       "109994    38182      52556     5.0         5.0  {'was_impossible': False}   \n",
       "109982  1206650     222188     5.0         5.0  {'was_impossible': False}   \n",
       "22547    314579      16399     5.0         5.0  {'was_impossible': False}   \n",
       "109970   482376     210258     5.0         5.0  {'was_impossible': False}   \n",
       "\n",
       "        diff  \n",
       "76513    0.0  \n",
       "22506    0.0  \n",
       "110033   0.0  \n",
       "110029   0.0  \n",
       "110014   0.0  \n",
       "110003   0.0  \n",
       "109994   0.0  \n",
       "109982   0.0  \n",
       "22547    0.0  \n",
       "109970   0.0  "
      ]
     },
     "execution_count": 24,
     "metadata": {},
     "output_type": "execute_result"
    }
   ],
   "source": [
    "# See the best 10 predictions\n",
    "df_prediction.sort_values(by='diff')[:10]"
   ]
  },
  {
   "cell_type": "code",
   "execution_count": 25,
   "id": "2b89c904",
   "metadata": {},
   "outputs": [
    {
     "data": {
      "text/plain": [
       "0.05693729252163003"
      ]
     },
     "execution_count": 25,
     "metadata": {},
     "output_type": "execute_result"
    }
   ],
   "source": [
    "#Check rows where predicted rating equals actual rating\n",
    "(df_prediction['diff'] == 0).mean()"
   ]
  },
  {
   "cell_type": "markdown",
   "id": "d3e3f1fe",
   "metadata": {},
   "source": [
    "About 6.2% of data have same prediction rating with actual rating. "
   ]
  },
  {
   "cell_type": "code",
   "execution_count": 26,
   "id": "d7f15f9c",
   "metadata": {},
   "outputs": [
    {
     "data": {
      "text/plain": [
       "0.41050003920851086"
      ]
     },
     "execution_count": 26,
     "metadata": {},
     "output_type": "execute_result"
    }
   ],
   "source": [
    "#Check rows where predicted rating is almost equal to actual rating\n",
    "(df_prediction[\"diff\"] <= 1).mean()"
   ]
  },
  {
   "cell_type": "markdown",
   "id": "373f0154",
   "metadata": {},
   "source": [
    "About 42.8% of predictions are almost accurate"
   ]
  },
  {
   "cell_type": "markdown",
   "id": "722ef1c2",
   "metadata": {},
   "source": [
    "Now we are going to apply the model onto the full trainset"
   ]
  },
  {
   "cell_type": "code",
   "execution_count": 27,
   "id": "8f05402a",
   "metadata": {},
   "outputs": [
    {
     "data": {
      "text/plain": [
       "<surprise.prediction_algorithms.matrix_factorization.SVD at 0x1c8fca49f00>"
      ]
     },
     "execution_count": 27,
     "metadata": {},
     "output_type": "execute_result"
    }
   ],
   "source": [
    "#Initializing FunkSVD algorithm\n",
    "my_reader = Reader(rating_scale = (1,5))\n",
    "\n",
    "df_review_data = Dataset.load_from_df(df_review, my_reader)\n",
    "\n",
    "#Build full trainset\n",
    "full_trainset = df_review_data.build_full_trainset()\n",
    "\n",
    "#Build Funk SVD algorithm with optimized parameters\n",
    "review_algo = FunkSVD(n_factors = 10,\n",
    "                     n_epochs = 100,\n",
    "                     lr_all = 0.005,\n",
    "                     biased = False,\n",
    "                     verbose = 0)\n",
    "\n",
    "#Fit with full trainset\n",
    "review_algo.fit(full_trainset)"
   ]
  },
  {
   "cell_type": "markdown",
   "id": "314f43a3",
   "metadata": {},
   "source": [
    "We can now utilize build_anti_test to build test set for all users and recipes without any ratings. This will allow us to have estimated ratings for all user-recipe rating pairs that are missing from our data."
   ]
  },
  {
   "cell_type": "code",
   "execution_count": 28,
   "id": "85485a49",
   "metadata": {},
   "outputs": [],
   "source": [
    "#Define full test set\n",
    "# full_testset = full_trainset.build_anti_testset(fill=-1)"
   ]
  },
  {
   "cell_type": "markdown",
   "id": "95c061c4",
   "metadata": {},
   "source": [
    "Dataset is too big to run build_anti_test. This step will need to be implemented in future state using cloud services"
   ]
  },
  {
   "cell_type": "code",
   "execution_count": 29,
   "id": "9cdaddad",
   "metadata": {},
   "outputs": [],
   "source": [
    "#Getting Latent Variables\n",
    "User = review_algo.pu\n",
    "Item = review_algo.qi.T"
   ]
  },
  {
   "cell_type": "code",
   "execution_count": 30,
   "id": "446f0609",
   "metadata": {},
   "outputs": [],
   "source": [
    "#Converting User and Item array to DataFrame\n",
    "User_df = pd.DataFrame(User)\n",
    "Item_df = pd.DataFrame(Item)"
   ]
  },
  {
   "cell_type": "code",
   "execution_count": 31,
   "id": "9be6677b",
   "metadata": {},
   "outputs": [],
   "source": [
    "#First recipe\n",
    "first_recipe = Item[:,0]"
   ]
  },
  {
   "cell_type": "markdown",
   "id": "4fd1e972",
   "metadata": {},
   "source": [
    "**Building Sample User Profile**"
   ]
  },
  {
   "cell_type": "code",
   "execution_count": 32,
   "id": "8ad8bc05",
   "metadata": {},
   "outputs": [
    {
     "data": {
      "text/plain": [
       "array([ 0.12196009, -0.00929802,  0.04798844,  0.10884224,  0.00625777,\n",
       "        0.05397132,  0.20094163, -0.05824586,  0.04355289,  0.09538173])"
      ]
     },
     "execution_count": 32,
     "metadata": {},
     "output_type": "execute_result"
    }
   ],
   "source": [
    "#Get first user's profile\n",
    "user_1 = df_review.loc[1,'User']\n",
    "\n",
    "inner_user_id = full_trainset.to_inner_uid(user_1)\n",
    "user_profile = User[inner_user_id]\n",
    "user_profile"
   ]
  },
  {
   "cell_type": "code",
   "execution_count": 33,
   "id": "5905f79b",
   "metadata": {},
   "outputs": [
    {
     "data": {
      "image/png": "[encoded data removed]",
      "text/plain": [
       "<Figure size 1500x700 with 1 Axes>"
      ]
     },
     "metadata": {},
     "output_type": "display_data"
    }
   ],
   "source": [
    "#Plotting Latent Features for user\n",
    "plt.figure(figsize=(15, 7))\n",
    "plt.barh([f'Latent Var{i}' for i in range(1,len(first_recipe)+1)], user_profile)\n",
    "plt.title(\"Latent Variable Profile of User\")\n",
    "plt.ylabel(\"Latent Variable\")\n",
    "plt.xlabel(\"Value\")\n",
    "plt.show()"
   ]
  },
  {
   "cell_type": "markdown",
   "id": "68c3028b",
   "metadata": {},
   "source": [
    "**Building Sample Recipe Profile**"
   ]
  },
  {
   "cell_type": "code",
   "execution_count": 34,
   "id": "26278fac",
   "metadata": {},
   "outputs": [
    {
     "data": {
      "text/plain": [
       "array([-0.24205351, -0.43845139,  0.47817875, -1.2711595 , -0.64394989,\n",
       "        0.65370099, -0.90780034,  0.66271328,  0.86201881,  0.69949364])"
      ]
     },
     "execution_count": 34,
     "metadata": {},
     "output_type": "execute_result"
    }
   ],
   "source": [
    "#Getting recipe profile \n",
    "recipe_1 = df.loc[1,'RecipeId']\n",
    "\n",
    "inner_recipe_id = full_trainset.to_inner_iid(recipe_1)\n",
    "recipe_profile = Item[:, inner_recipe_id]\n",
    "recipe_profile"
   ]
  },
  {
   "cell_type": "code",
   "execution_count": 35,
   "id": "d4025ae0",
   "metadata": {},
   "outputs": [
    {
     "data": {
      "image/png": "[encoded data removed]",
      "text/plain": [
       "<Figure size 1500x700 with 1 Axes>"
      ]
     },
     "metadata": {},
     "output_type": "display_data"
    }
   ],
   "source": [
    "plt.figure(figsize=(15, 7))\n",
    "plt.barh([f'Latent Var{i}' for i in range(1,len(first_recipe)+1)], recipe_profile)\n",
    "plt.title(\"Latent Variable Profile of Recipe\")\n",
    "plt.ylabel(\"Latent Variable\")\n",
    "plt.xlabel(\"Value\")\n",
    "plt.show()"
   ]
  },
  {
   "cell_type": "markdown",
   "id": "ed507408",
   "metadata": {},
   "source": [
    "### Observations from User and Recipe profiles\n",
    "The higher the latent variable values and the greater number of positive latent variables indicates that the user has a greater affinity or recipe towards the recipe."
   ]
  },
  {
   "cell_type": "markdown",
   "id": "cd235a25",
   "metadata": {},
   "source": [
    "Once we have both the user and recipe profile, we can determine the expected rating by doing a dot product of both profiles."
   ]
  },
  {
   "cell_type": "markdown",
   "id": "26b2818e",
   "metadata": {},
   "source": [
    "## Funk SVD & Top N items Function\n",
    "We are now going to create a top N recommendation system that we can use to recommend recipes to users."
   ]
  },
  {
   "cell_type": "code",
   "execution_count": 36,
   "id": "3aa5e10c",
   "metadata": {},
   "outputs": [
    {
     "data": {
      "text/html": [
       "<div>\n",
       "<style scoped>\n",
       "    .dataframe tbody tr th:only-of-type {\n",
       "        vertical-align: middle;\n",
       "    }\n",
       "\n",
       "    .dataframe tbody tr th {\n",
       "        vertical-align: top;\n",
       "    }\n",
       "\n",
       "    .dataframe thead th {\n",
       "        text-align: right;\n",
       "    }\n",
       "</style>\n",
       "<table border=\"1\" class=\"dataframe\">\n",
       "  <thead>\n",
       "    <tr style=\"text-align: right;\">\n",
       "      <th></th>\n",
       "      <th>User</th>\n",
       "      <th>RecipeId</th>\n",
       "      <th>Rating</th>\n",
       "    </tr>\n",
       "  </thead>\n",
       "  <tbody>\n",
       "    <tr>\n",
       "      <th>66</th>\n",
       "      <td>1773</td>\n",
       "      <td>190</td>\n",
       "      <td>3</td>\n",
       "    </tr>\n",
       "  </tbody>\n",
       "</table>\n",
       "</div>"
      ],
      "text/plain": [
       "    User  RecipeId  Rating\n",
       "66  1773       190       3"
      ]
     },
     "execution_count": 36,
     "metadata": {},
     "output_type": "execute_result"
    }
   ],
   "source": [
    "#Example Used id: 1773\n",
    "df_review[df_review['User'] == 1773]"
   ]
  },
  {
   "cell_type": "code",
   "execution_count": 37,
   "id": "36f652ff",
   "metadata": {},
   "outputs": [
    {
     "data": {
      "text/plain": [
       "2156"
      ]
     },
     "execution_count": 37,
     "metadata": {},
     "output_type": "execute_result"
    }
   ],
   "source": [
    "df_review.loc[1,'User']"
   ]
  },
  {
   "cell_type": "code",
   "execution_count": 38,
   "id": "6a86d536",
   "metadata": {},
   "outputs": [],
   "source": [
    "#Get user's profile\n",
    "input_user = 1773\n",
    "\n",
    "inner_user_id = full_trainset.to_inner_uid(input_user)\n",
    "user_profile = User[inner_user_id]"
   ]
  },
  {
   "cell_type": "code",
   "execution_count": 39,
   "id": "c6d4a6f0",
   "metadata": {},
   "outputs": [],
   "source": [
    "#Getting recipe profile \n",
    "recipe_1 = 390157\n",
    "\n",
    "inner_recipe_id = full_trainset.to_inner_iid(recipe_1)\n",
    "recipe_profile = Item[:, inner_recipe_id]"
   ]
  },
  {
   "cell_type": "code",
   "execution_count": 40,
   "id": "8fab4b27",
   "metadata": {},
   "outputs": [
    {
     "data": {
      "text/plain": [
       "1.5573642716441294"
      ]
     },
     "execution_count": 40,
     "metadata": {},
     "output_type": "execute_result"
    }
   ],
   "source": [
    "#Calculating the expected rating through dot product of the user and recipe profile\n",
    "expected_rating = np.dot(user_profile, recipe_profile)\n",
    "expected_rating"
   ]
  },
  {
   "cell_type": "markdown",
   "id": "94225fdf",
   "metadata": {},
   "source": [
    "Our next step is to rate all unrated recipes from user and rank them top N."
   ]
  },
  {
   "cell_type": "code",
   "execution_count": 41,
   "id": "ba045640",
   "metadata": {},
   "outputs": [],
   "source": [
    "#FunkSVD recommendation\n",
    "def get_recommendations(input_user, N):\n",
    "    \"\"\"\n",
    "    Function will provide top N recipes based on ratings for the input_user.\n",
    "    \n",
    "    input_user: User id\n",
    "    N: parameters for top number of recipes to return\n",
    "    \n",
    "    Output: Dataframe with top N recipes sort by ratings\n",
    "    \n",
    "    \"\"\"\n",
    "    inner_user_id = full_trainset.to_inner_uid(input_user)\n",
    "    user_profile = User[inner_user_id]\n",
    "\n",
    "    rated_recipes = df_review[df_review['User'] == input_user]['RecipeId']\n",
    "\n",
    "    unrated_recipes = df_review[~df_review['RecipeId'].isin(rated_recipes)]['RecipeId'].unique()\n",
    "\n",
    "    rating_list = []\n",
    "    for val in unrated_recipes:\n",
    "        input_recipe = val\n",
    "\n",
    "        inner_recipe_id = full_trainset.to_inner_iid(input_recipe)\n",
    "        recipe_profile = Item[:, inner_recipe_id]\n",
    "\n",
    "        rating = np.dot(user_profile, recipe_profile)\n",
    "        rating_list.append(rating)\n",
    "\n",
    "    min_rating = np.min(rating_list)\n",
    "    max_rating = np.max(rating_list)\n",
    "\n",
    "    mapped_rating_list = []\n",
    "    for rating in rating_list:\n",
    "        # Map the rating to a 1-5 scale\n",
    "        mapped_rating = 1 + (rating - min_rating) / (max_rating - min_rating) * 4\n",
    "        mapped_rating_list.append(mapped_rating)\n",
    "\n",
    "    top_indices = np.argsort(mapped_rating_list)[::-1][:N]\n",
    "    top_recipes = [unrated_recipes[i] for i in top_indices]\n",
    "    top_ratings = [mapped_rating_list[i] for i in top_indices]\n",
    "    top_recipes_names = [df.loc[df['RecipeId'] == i, 'RecipeName'].iloc[0] for i in top_recipes]\n",
    "    \n",
    "    recommendations_df = pd.DataFrame({'RecipeName': top_recipes_names, 'Rating': top_ratings})\n",
    "    return recommendations_df"
   ]
  },
  {
   "cell_type": "code",
   "execution_count": 42,
   "id": "72c64cbd",
   "metadata": {},
   "outputs": [
    {
     "data": {
      "text/html": [
       "<div>\n",
       "<style scoped>\n",
       "    .dataframe tbody tr th:only-of-type {\n",
       "        vertical-align: middle;\n",
       "    }\n",
       "\n",
       "    .dataframe tbody tr th {\n",
       "        vertical-align: top;\n",
       "    }\n",
       "\n",
       "    .dataframe thead th {\n",
       "        text-align: right;\n",
       "    }\n",
       "</style>\n",
       "<table border=\"1\" class=\"dataframe\">\n",
       "  <thead>\n",
       "    <tr style=\"text-align: right;\">\n",
       "      <th></th>\n",
       "      <th>RecipeName</th>\n",
       "      <th>Rating</th>\n",
       "    </tr>\n",
       "  </thead>\n",
       "  <tbody>\n",
       "    <tr>\n",
       "      <th>0</th>\n",
       "      <td>The Real New York Bagel Recipe</td>\n",
       "      <td>5.000000</td>\n",
       "    </tr>\n",
       "    <tr>\n",
       "      <th>1</th>\n",
       "      <td>Bahama Mama Banana Rum Cake</td>\n",
       "      <td>4.691409</td>\n",
       "    </tr>\n",
       "    <tr>\n",
       "      <th>2</th>\n",
       "      <td>Gluten Free Waffles</td>\n",
       "      <td>4.690982</td>\n",
       "    </tr>\n",
       "    <tr>\n",
       "      <th>3</th>\n",
       "      <td>Betty Crocker Fudge Brownies Homemade</td>\n",
       "      <td>4.643886</td>\n",
       "    </tr>\n",
       "    <tr>\n",
       "      <th>4</th>\n",
       "      <td>The Best Puerto Rican Pernil (Pork Shoulder)</td>\n",
       "      <td>4.592381</td>\n",
       "    </tr>\n",
       "    <tr>\n",
       "      <th>5</th>\n",
       "      <td>Vegetable Lasagna With White Sauce</td>\n",
       "      <td>4.566935</td>\n",
       "    </tr>\n",
       "    <tr>\n",
       "      <th>6</th>\n",
       "      <td>Best Ever Banana Cake With Cream Cheese Frosting</td>\n",
       "      <td>4.557698</td>\n",
       "    </tr>\n",
       "    <tr>\n",
       "      <th>7</th>\n",
       "      <td>Homemade Blackberry Jam</td>\n",
       "      <td>4.538023</td>\n",
       "    </tr>\n",
       "    <tr>\n",
       "      <th>8</th>\n",
       "      <td>Starbucks Mocha Frappuccino</td>\n",
       "      <td>4.522249</td>\n",
       "    </tr>\n",
       "    <tr>\n",
       "      <th>9</th>\n",
       "      <td>The Best Ever Waffles</td>\n",
       "      <td>4.512317</td>\n",
       "    </tr>\n",
       "  </tbody>\n",
       "</table>\n",
       "</div>"
      ],
      "text/plain": [
       "                                         RecipeName    Rating\n",
       "0                    The Real New York Bagel Recipe  5.000000\n",
       "1                       Bahama Mama Banana Rum Cake  4.691409\n",
       "2                               Gluten Free Waffles  4.690982\n",
       "3             Betty Crocker Fudge Brownies Homemade  4.643886\n",
       "4      The Best Puerto Rican Pernil (Pork Shoulder)  4.592381\n",
       "5                Vegetable Lasagna With White Sauce  4.566935\n",
       "6  Best Ever Banana Cake With Cream Cheese Frosting  4.557698\n",
       "7                           Homemade Blackberry Jam  4.538023\n",
       "8                       Starbucks Mocha Frappuccino  4.522249\n",
       "9                             The Best Ever Waffles  4.512317"
      ]
     },
     "execution_count": 42,
     "metadata": {},
     "output_type": "execute_result"
    }
   ],
   "source": [
    "get_recommendations(2312,10)"
   ]
  },
  {
   "cell_type": "markdown",
   "id": "72b967d2",
   "metadata": {},
   "source": [
    "# Observation\n",
    "We aren't able to fully use collaborative filtering with our business use case building out a constructed grocery list based on user's input of ingredients, but we may be able to use a hybrid recommender system to utilizes the Funk SVD algorithm and the content based recommender. Further actions on this will be discussed when constructing the hybrid model.\n",
    "\n",
    "Based on the Fraction of Concordant Pairs metric score, we only attained a score of 58% with the most optimized hyperparameters. This score is very medicore and we will need to run other collaborative recommender systems to determine if we can get a better model for prediction.. Although this is the case, the model is performing better than random chance of 50/50.\n",
    "\n"
   ]
  },
  {
   "cell_type": "code",
   "execution_count": null,
   "id": "b464c210",
   "metadata": {},
   "outputs": [],
   "source": []
  },
  {
   "cell_type": "code",
   "execution_count": null,
   "id": "5ee45abf",
   "metadata": {},
   "outputs": [],
   "source": []
  },
  {
   "cell_type": "code",
   "execution_count": null,
   "id": "df9cf8bb",
   "metadata": {},
   "outputs": [],
   "source": []
  },
  {
   "cell_type": "markdown",
   "id": "0553b3df",
   "metadata": {},
   "source": [
    "# Stochastic Gradient Descent"
   ]
  },
  {
   "cell_type": "code",
   "execution_count": 43,
   "id": "14760804",
   "metadata": {},
   "outputs": [
    {
     "ename": "NameError",
     "evalue": "name 'R' is not defined",
     "output_type": "error",
     "traceback": [
      "\u001b[1;31m---------------------------------------------------------------------------\u001b[0m",
      "\u001b[1;31mNameError\u001b[0m                                 Traceback (most recent call last)",
      "Cell \u001b[1;32mIn[43], line 2\u001b[0m\n\u001b[0;32m      1\u001b[0m \u001b[38;5;66;03m# Step 2: Define hyperparameters\u001b[39;00m\n\u001b[1;32m----> 2\u001b[0m num_users, num_items \u001b[38;5;241m=\u001b[39m \u001b[43mR\u001b[49m\u001b[38;5;241m.\u001b[39mshape\n\u001b[0;32m      3\u001b[0m K \u001b[38;5;241m=\u001b[39m \u001b[38;5;241m2\u001b[39m  \u001b[38;5;66;03m# Number of latent factors\u001b[39;00m\n\u001b[0;32m      4\u001b[0m learning_rate \u001b[38;5;241m=\u001b[39m \u001b[38;5;241m0.01\u001b[39m  \u001b[38;5;66;03m# Learning rate\u001b[39;00m\n",
      "\u001b[1;31mNameError\u001b[0m: name 'R' is not defined"
     ]
    }
   ],
   "source": [
    "# Step 2: Define hyperparameters\n",
    "num_users, num_items = R.shape\n",
    "K = 2  # Number of latent factors\n",
    "learning_rate = 0.01  # Learning rate\n",
    "reg_lambda = 0.1  # Regularization parameter\n",
    "num_iterations = 1000  # Number of iterations"
   ]
  },
  {
   "cell_type": "code",
   "execution_count": null,
   "id": "d21659f9",
   "metadata": {},
   "outputs": [],
   "source": [
    "df_review.head(5)"
   ]
  },
  {
   "cell_type": "code",
   "execution_count": null,
   "id": "b0f5f519",
   "metadata": {},
   "outputs": [],
   "source": [
    "df_review['RecipeId'].isnull().values.any()"
   ]
  },
  {
   "cell_type": "code",
   "execution_count": null,
   "id": "cf1962c5",
   "metadata": {},
   "outputs": [],
   "source": [
    "df_review_2 = df_review.drop_duplicates()"
   ]
  },
  {
   "cell_type": "code",
   "execution_count": null,
   "id": "c2bf0e47",
   "metadata": {
    "scrolled": false
   },
   "outputs": [],
   "source": [
    "# Step 1: Create a User-Item Interaction Matrix\n",
    "user_item_matrix = df_review_2.pivot(index='User', columns='RecipeId', values='Rating')\n",
    "\n"
   ]
  },
  {
   "cell_type": "code",
   "execution_count": null,
   "id": "efde737f",
   "metadata": {},
   "outputs": [],
   "source": [
    "df_review.iloc[129132711,:]"
   ]
  },
  {
   "cell_type": "code",
   "execution_count": null,
   "id": "47f5d299",
   "metadata": {},
   "outputs": [],
   "source": [
    "print(df_review['User'].unique())"
   ]
  },
  {
   "cell_type": "code",
   "execution_count": null,
   "id": "d1bfc28a",
   "metadata": {},
   "outputs": [],
   "source": []
  },
  {
   "cell_type": "code",
   "execution_count": null,
   "id": "a260aa88",
   "metadata": {},
   "outputs": [],
   "source": []
  }
 ],
 "metadata": {
  "kernelspec": {
   "display_name": "Python 3 (ipykernel)",
   "language": "python",
   "name": "python3"
  },
  "language_info": {
   "codemirror_mode": {
    "name": "ipython",
    "version": 3
   },
   "file_extension": ".py",
   "mimetype": "text/x-python",
   "name": "python",
   "nbconvert_exporter": "python",
   "pygments_lexer": "ipython3",
   "version": "3.10.9"
  }
 },
 "nbformat": 4,
 "nbformat_minor": 5
}
