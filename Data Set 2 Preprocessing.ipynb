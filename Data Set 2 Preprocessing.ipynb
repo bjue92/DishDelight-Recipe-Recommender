{
 "cells": [
  {
   "cell_type": "code",
   "execution_count": 1,
   "id": "afff864e",
   "metadata": {},
   "outputs": [],
   "source": [
    "import pandas as pd\n",
    "pd.set_option('display.max_columns', None)"
   ]
  },
  {
   "cell_type": "code",
   "execution_count": 2,
   "id": "b54019c6",
   "metadata": {},
   "outputs": [],
   "source": [
    "df = pd.read_csv('dats set 2/recipes_w_search_terms.csv')"
   ]
  },
  {
   "cell_type": "code",
   "execution_count": 3,
   "id": "47ed3331",
   "metadata": {},
   "outputs": [
    {
     "data": {
      "text/html": [
       "<div>\n",
       "<style scoped>\n",
       "    .dataframe tbody tr th:only-of-type {\n",
       "        vertical-align: middle;\n",
       "    }\n",
       "\n",
       "    .dataframe tbody tr th {\n",
       "        vertical-align: top;\n",
       "    }\n",
       "\n",
       "    .dataframe thead th {\n",
       "        text-align: right;\n",
       "    }\n",
       "</style>\n",
       "<table border=\"1\" class=\"dataframe\">\n",
       "  <thead>\n",
       "    <tr style=\"text-align: right;\">\n",
       "      <th></th>\n",
       "      <th>id</th>\n",
       "      <th>name</th>\n",
       "      <th>description</th>\n",
       "      <th>ingredients</th>\n",
       "      <th>ingredients_raw_str</th>\n",
       "      <th>serving_size</th>\n",
       "      <th>servings</th>\n",
       "      <th>steps</th>\n",
       "      <th>tags</th>\n",
       "      <th>search_terms</th>\n",
       "    </tr>\n",
       "  </thead>\n",
       "  <tbody>\n",
       "    <tr>\n",
       "      <th>0</th>\n",
       "      <td>96313</td>\n",
       "      <td>Grilled Garlic Cheese Grits</td>\n",
       "      <td>We love grits, this is another good way to ser...</td>\n",
       "      <td>['water', 'grits', 'salt', 'cheddar cheese', '...</td>\n",
       "      <td>[\"4   cups    water\",\"1   cup   uncooked old f...</td>\n",
       "      <td>1 (155 g)</td>\n",
       "      <td>8</td>\n",
       "      <td>['I a sauce pan, bring water to a boil; slowly...</td>\n",
       "      <td>['time-to-make', 'course', 'main-ingredient', ...</td>\n",
       "      <td>{'diabetic', 'low-calorie', 'vegetarian', 'low...</td>\n",
       "    </tr>\n",
       "  </tbody>\n",
       "</table>\n",
       "</div>"
      ],
      "text/plain": [
       "      id                         name  \\\n",
       "0  96313  Grilled Garlic Cheese Grits   \n",
       "\n",
       "                                         description  \\\n",
       "0  We love grits, this is another good way to ser...   \n",
       "\n",
       "                                         ingredients  \\\n",
       "0  ['water', 'grits', 'salt', 'cheddar cheese', '...   \n",
       "\n",
       "                                 ingredients_raw_str serving_size  servings  \\\n",
       "0  [\"4   cups    water\",\"1   cup   uncooked old f...    1 (155 g)         8   \n",
       "\n",
       "                                               steps  \\\n",
       "0  ['I a sauce pan, bring water to a boil; slowly...   \n",
       "\n",
       "                                                tags  \\\n",
       "0  ['time-to-make', 'course', 'main-ingredient', ...   \n",
       "\n",
       "                                        search_terms  \n",
       "0  {'diabetic', 'low-calorie', 'vegetarian', 'low...  "
      ]
     },
     "execution_count": 3,
     "metadata": {},
     "output_type": "execute_result"
    }
   ],
   "source": [
    "df.head(1)"
   ]
  },
  {
   "cell_type": "markdown",
   "id": "92c0e957",
   "metadata": {},
   "source": [
    "# Useful columns for project\n",
    "- Most columns are already present in first data set. Only column that is required from this dataset is serving_size and \n",
    "servings\n",
    "- Using both ingredients and ingredients_raw_str because 'ingredients will be used for features of model while the raw str will be used in final output to determine total quantity of each ingredient"
   ]
  },
  {
   "cell_type": "code",
   "execution_count": 4,
   "id": "b0b5e6e6",
   "metadata": {},
   "outputs": [],
   "source": [
    "df = df.loc[:,['id', 'serving_size', 'servings', 'ingredients', 'ingredients_raw_str']]"
   ]
  },
  {
   "cell_type": "code",
   "execution_count": 5,
   "id": "dfe9d6a7",
   "metadata": {},
   "outputs": [
    {
     "data": {
      "text/html": [
       "<div>\n",
       "<style scoped>\n",
       "    .dataframe tbody tr th:only-of-type {\n",
       "        vertical-align: middle;\n",
       "    }\n",
       "\n",
       "    .dataframe tbody tr th {\n",
       "        vertical-align: top;\n",
       "    }\n",
       "\n",
       "    .dataframe thead th {\n",
       "        text-align: right;\n",
       "    }\n",
       "</style>\n",
       "<table border=\"1\" class=\"dataframe\">\n",
       "  <thead>\n",
       "    <tr style=\"text-align: right;\">\n",
       "      <th></th>\n",
       "      <th>id</th>\n",
       "      <th>serving_size</th>\n",
       "      <th>servings</th>\n",
       "      <th>ingredients</th>\n",
       "      <th>ingredients_raw_str</th>\n",
       "    </tr>\n",
       "  </thead>\n",
       "  <tbody>\n",
       "    <tr>\n",
       "      <th>0</th>\n",
       "      <td>96313</td>\n",
       "      <td>1 (155 g)</td>\n",
       "      <td>8</td>\n",
       "      <td>['water', 'grits', 'salt', 'cheddar cheese', '...</td>\n",
       "      <td>[\"4   cups    water\",\"1   cup   uncooked old f...</td>\n",
       "    </tr>\n",
       "  </tbody>\n",
       "</table>\n",
       "</div>"
      ],
      "text/plain": [
       "      id serving_size  servings  \\\n",
       "0  96313    1 (155 g)         8   \n",
       "\n",
       "                                         ingredients  \\\n",
       "0  ['water', 'grits', 'salt', 'cheddar cheese', '...   \n",
       "\n",
       "                                 ingredients_raw_str  \n",
       "0  [\"4   cups    water\",\"1   cup   uncooked old f...  "
      ]
     },
     "execution_count": 5,
     "metadata": {},
     "output_type": "execute_result"
    }
   ],
   "source": [
    "df.head(1)"
   ]
  },
  {
   "cell_type": "code",
   "execution_count": 6,
   "id": "d366202d",
   "metadata": {},
   "outputs": [],
   "source": [
    "df.to_csv('DataSet2.csv')"
   ]
  },
  {
   "cell_type": "code",
   "execution_count": null,
   "id": "679175ff",
   "metadata": {},
   "outputs": [],
   "source": []
  }
 ],
 "metadata": {
  "kernelspec": {
   "display_name": "Python 3 (ipykernel)",
   "language": "python",
   "name": "python3"
  },
  "language_info": {
   "codemirror_mode": {
    "name": "ipython",
    "version": 3
   },
   "file_extension": ".py",
   "mimetype": "text/x-python",
   "name": "python",
   "nbconvert_exporter": "python",
   "pygments_lexer": "ipython3",
   "version": "3.9.13"
  }
 },
 "nbformat": 4,
 "nbformat_minor": 5
}
